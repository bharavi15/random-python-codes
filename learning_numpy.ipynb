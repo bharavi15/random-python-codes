{
 "cells": [
  {
   "cell_type": "code",
   "execution_count": null,
   "metadata": {},
   "outputs": [],
   "source": [
    "import numpy as np\n",
    "np.__version__"
   ]
  },
  {
   "cell_type": "code",
   "execution_count": null,
   "metadata": {},
   "outputs": [],
   "source": [
    "%%time\n",
    "l = [[1,2,3],[4,5,6]]\n",
    "a = np.array(l)\n",
    "a.shape = (6,1)\n",
    "print(a)\n",
    "print(a.shape)\n",
    "print(a.size)\n",
    "print(type(a))"
   ]
  },
  {
   "cell_type": "code",
   "execution_count": null,
   "metadata": {},
   "outputs": [],
   "source": [
    "b =  np.resize(a,(1,9))\n",
    "print(b)"
   ]
  },
  {
   "cell_type": "markdown",
   "metadata": {},
   "source": [
    "### Arange function"
   ]
  },
  {
   "cell_type": "code",
   "execution_count": null,
   "metadata": {},
   "outputs": [],
   "source": [
    "x = np.arange(10,20,2)\n",
    "print(x)\n",
    "print(x.ndim)\n",
    "x = np.arange(18).reshape(3,3,2)\n",
    "# print(x)\n",
    "# print(x.ndim)\n",
    "print(x.itemsize)\n",
    "a = np.array([1,2,3],dtype=np.uint16)\n",
    "print(a.itemsize)\n",
    "a = np.array([1,2,3],dtype=np.float32)\n",
    "print(a.itemsize)"
   ]
  },
  {
   "cell_type": "markdown",
   "metadata": {},
   "source": [
    "### Numpy creation routines\n",
    "Order can be 'C' or 'F'\n",
    "- C is for C-style row major form\n",
    "- F is for Fortran-style column major form"
   ]
  },
  {
   "cell_type": "code",
   "execution_count": null,
   "metadata": {},
   "outputs": [],
   "source": [
    "x = np.empty([2,6],dtype=int)\n",
    "print(x)"
   ]
  },
  {
   "cell_type": "markdown",
   "metadata": {},
   "source": [
    "### Numpy zeros\n",
    "Use to create arrays with zeros"
   ]
  },
  {
   "cell_type": "code",
   "execution_count": 44,
   "metadata": {},
   "outputs": [
    {
     "name": "stdout",
     "output_type": "stream",
     "text": [
      "[[0 0]]\n"
     ]
    }
   ],
   "source": [
    "y = np.zeros((1,2),dtype=int, order='C')\n",
    "print(y)"
   ]
  },
  {
   "cell_type": "markdown",
   "metadata": {},
   "source": [
    "### Numpy asarray\n",
    "Convert python list to numpy array and back"
   ]
  },
  {
   "cell_type": "code",
   "execution_count": null,
   "metadata": {},
   "outputs": [],
   "source": [
    "l = [1,2,3]\n",
    "a = np.array(l)\n",
    "print(type(a))\n",
    "b = list(a)\n",
    "print(type(b))"
   ]
  },
  {
   "cell_type": "markdown",
   "metadata": {},
   "source": [
    "### Numpy Linear Space\n",
    "Range function gives step size\n",
    "Linear space creates X number of equidistant values "
   ]
  },
  {
   "cell_type": "code",
   "execution_count": 52,
   "metadata": {},
   "outputs": [
    {
     "name": "stdout",
     "output_type": "stream",
     "text": [
      "[ 0.  5. 10. 15. 20.]\n",
      "40\n"
     ]
    }
   ],
   "source": [
    "x = np.linspace(0,20,5)\n",
    "print(x)\n",
    "x = np.linspace(0,20,40)\n",
    "print(x)"
   ]
  },
  {
   "cell_type": "markdown",
   "metadata": {},
   "source": [
    "### Numpy Axis\n",
    "Axis is used to read the data in row or column order\n",
    "- axis = 0 column wise\n",
    "- axis = 1 row wise"
   ]
  },
  {
   "cell_type": "code",
   "execution_count": null,
   "metadata": {},
   "outputs": [],
   "source": [
    "a = [[1,2],\n",
    "     [5,4]]\n",
    "print(np.sum(a))\n",
    "print(np.sum(a,axis=0))\n",
    "print(np.sum(a,axis=1))"
   ]
  },
  {
   "cell_type": "markdown",
   "metadata": {},
   "source": [
    "### Matrix Operations\n",
    "- add()\n"
   ]
  },
  {
   "cell_type": "code",
   "execution_count": null,
   "metadata": {},
   "outputs": [],
   "source": [
    "a = np.array([[1,0],[0,1]])\n",
    "b=np.array([3,1])\n",
    "print(f'add= {np.add(a,b)}')\n",
    "print(f'subtract= {np.subtract(a,b)}')\n",
    "print(f'multiply= {np.multiply(a,b)}')\n",
    "print(f'divide= {np.divide(a,b)}')\n",
    "print(f'dot= {np.dot(a,b)}')"
   ]
  },
  {
   "cell_type": "markdown",
   "metadata": {},
   "source": [
    "### Statistical functions"
   ]
  },
  {
   "cell_type": "code",
   "execution_count": 70,
   "metadata": {},
   "outputs": [
    {
     "name": "stdout",
     "output_type": "stream",
     "text": [
      "[3 3 2]\n",
      "[2 4 3]\n",
      "7\n",
      "[6 3 6]\n",
      "[4 5 7]\n",
      "4.0\n",
      "[3. 4. 5.]\n",
      "[5. 4. 4.]\n"
     ]
    }
   ],
   "source": [
    "a = np.array([[3,7,5],[8,4,3],[2,4,9]])\n",
    "print(np.amin(a,axis=1)) # axis = 1 for row\n",
    "print(np.amin(a,axis=0)) # axis = 0 for column\n",
    "print(np.ptp(a))\n",
    "print(np.ptp(a,axis=0))\n",
    "print(np.ptp(a,axis=1))\n",
    "print(np.median(a))\n",
    "print(np.median(a,axis=0))\n",
    "print(np.median(a,axis=1))\n"
   ]
  },
  {
   "cell_type": "markdown",
   "metadata": {},
   "source": []
  }
 ],
 "metadata": {
  "kernelspec": {
   "display_name": "Python 3.10.2 ('crypto': venv)",
   "language": "python",
   "name": "python3"
  },
  "language_info": {
   "codemirror_mode": {
    "name": "ipython",
    "version": 3
   },
   "file_extension": ".py",
   "mimetype": "text/x-python",
   "name": "python",
   "nbconvert_exporter": "python",
   "pygments_lexer": "ipython3",
   "version": "3.10.2"
  },
  "orig_nbformat": 4,
  "vscode": {
   "interpreter": {
    "hash": "d23e82d4a69a38d86e8f3a046047bcf19c4d50b4432c144275d370d779db8435"
   }
  }
 },
 "nbformat": 4,
 "nbformat_minor": 2
}
