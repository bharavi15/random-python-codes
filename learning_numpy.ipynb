{
 "cells": [
  {
   "cell_type": "code",
   "execution_count": null,
   "metadata": {},
   "outputs": [],
   "source": [
    "import numpy as np\n",
    "np.__version__"
   ]
  },
  {
   "cell_type": "code",
   "execution_count": null,
   "metadata": {},
   "outputs": [],
   "source": [
    "%%time\n",
    "l = [[1,2,3],[4,5,6]]\n",
    "a = np.array(l)\n",
    "print(a.shape)\n",
    "a.shape = (6,1)\n",
    "print(a)\n",
    "print(a.shape)\n",
    "print(a.size)\n",
    "print(type(a))"
   ]
  },
  {
   "cell_type": "code",
   "execution_count": null,
   "metadata": {},
   "outputs": [],
   "source": [
    "%%time\n",
    "l = [[1,'s',True],[4,5,6]]\n",
    "a = np.array(l)\n",
    "print(a.shape)\n",
    "a.shape = (6,1)\n",
    "print(a)\n",
    "print(a.shape)\n",
    "print(a.size)\n",
    "print(type(a))"
   ]
  },
  {
   "cell_type": "code",
   "execution_count": null,
   "metadata": {},
   "outputs": [],
   "source": [
    "b =  np.resize(a,(1,9))\n",
    "print(b)"
   ]
  },
  {
   "cell_type": "markdown",
   "metadata": {},
   "source": [
    "### Arange function"
   ]
  },
  {
   "cell_type": "code",
   "execution_count": null,
   "metadata": {},
   "outputs": [],
   "source": [
    "x = np.arange(10,20,2)\n",
    "print(x)\n",
    "print(x.ndim)\n",
    "x = np.arange(18).reshape(3,3,2)\n",
    "# print(x)\n",
    "# print(x.ndim)\n",
    "print(x.itemsize)\n",
    "a = np.array([1,2,3],dtype=np.uint16)\n",
    "print(a.itemsize)\n",
    "a = np.array([1,2,3],dtype=np.float32)\n",
    "print(a.itemsize)"
   ]
  },
  {
   "cell_type": "markdown",
   "metadata": {},
   "source": [
    "### Numpy creation routines\n",
    "Order can be 'C' or 'F'\n",
    "- C is for C-style row major form\n",
    "- F is for Fortran-style column major form"
   ]
  },
  {
   "cell_type": "code",
   "execution_count": null,
   "metadata": {},
   "outputs": [],
   "source": [
    "x = np.empty([2,6],dtype=int)\n",
    "print(x)"
   ]
  },
  {
   "cell_type": "markdown",
   "metadata": {},
   "source": [
    "### Numpy zeros\n",
    "Use to create arrays with zeros"
   ]
  },
  {
   "cell_type": "code",
   "execution_count": null,
   "metadata": {},
   "outputs": [],
   "source": [
    "y = np.zeros((1,2),dtype=int, order='C')\n",
    "print(y)"
   ]
  },
  {
   "cell_type": "markdown",
   "metadata": {},
   "source": [
    "### Numpy asarray\n",
    "Convert python list to numpy array and back"
   ]
  },
  {
   "cell_type": "code",
   "execution_count": null,
   "metadata": {},
   "outputs": [],
   "source": [
    "l = [1,2,3]\n",
    "a = np.array(l)\n",
    "print(type(a))\n",
    "b = list(a)\n",
    "print(type(b))"
   ]
  },
  {
   "cell_type": "markdown",
   "metadata": {},
   "source": [
    "### Numpy Linear Space\n",
    "Range function gives step size\n",
    "Linear space creates X number of equidistant values "
   ]
  },
  {
   "cell_type": "code",
   "execution_count": null,
   "metadata": {},
   "outputs": [],
   "source": [
    "x = np.linspace(0,20,5)\n",
    "print(x)\n",
    "x = np.linspace(0,20,40)\n",
    "print(x)"
   ]
  },
  {
   "cell_type": "markdown",
   "metadata": {},
   "source": [
    "### Numpy Axis\n",
    "Axis is used to read the data in row or column order\n",
    "- axis = 0 column wise\n",
    "- axis = 1 row wise"
   ]
  },
  {
   "cell_type": "code",
   "execution_count": null,
   "metadata": {},
   "outputs": [],
   "source": [
    "a = [[1,2],\n",
    "     [5,4]]\n",
    "print(np.sum(a))\n",
    "print(np.sum(a,axis=0))\n",
    "print(np.sum(a,axis=1))"
   ]
  },
  {
   "cell_type": "markdown",
   "metadata": {},
   "source": [
    "### Matrix Operations\n",
    "- add()\n"
   ]
  },
  {
   "cell_type": "code",
   "execution_count": null,
   "metadata": {},
   "outputs": [],
   "source": [
    "a = np.array([[1,0],[0,1]])\n",
    "b=np.array([3,1])\n",
    "print(f'add= {np.add(a,b)}')\n",
    "print(f'subtract= {np.subtract(a,b)}')\n",
    "print(f'multiply= {np.multiply(a,b)}')\n",
    "print(f'divide= {np.divide(a,b)}')\n",
    "print(f'dot= {np.dot(a,b)}')"
   ]
  },
  {
   "cell_type": "markdown",
   "metadata": {},
   "source": [
    "### Statistical functions"
   ]
  },
  {
   "cell_type": "code",
   "execution_count": null,
   "metadata": {},
   "outputs": [],
   "source": [
    "a = np.array([[3,7,5],[8,4,3],[2,4,9]])\n",
    "print(np.amin(a,axis=1)) # axis = 1 for row\n",
    "print(np.amin(a,axis=0)) # axis = 0 for column\n",
    "print(np.ptp(a))\n",
    "print(np.ptp(a,axis=0))\n",
    "print(np.ptp(a,axis=1))\n",
    "print(np.median(a))\n",
    "print(np.median(a,axis=0))\n",
    "print(np.median(a,axis=1))\n",
    "\n",
    "print(np.mean(a))\n",
    "print(np.mean(a,axis=0))\n",
    "print(np.mean(a,axis=1))\n",
    "# Standard deviation\n",
    "print(np.std(a))\n",
    "print(np.std(a,axis=0))\n",
    "print(np.std(a,axis=1))\n",
    "# variance\n",
    "print(np.var(a))\n",
    "print(np.var(a,axis=0))\n",
    "print(np.var(a,axis=1))\n"
   ]
  },
  {
   "cell_type": "markdown",
   "metadata": {},
   "source": [
    "# TASKS"
   ]
  },
  {
   "cell_type": "markdown",
   "metadata": {},
   "source": [
    "Task1: Given 2 similar dimensional numpy arrays, how to get a numpy array output in which every element is an element-wise sum of the 2 numpy arrays?\n"
   ]
  },
  {
   "cell_type": "code",
   "execution_count": null,
   "metadata": {},
   "outputs": [],
   "source": [
    "a = np.array([[1, 2, 3], [4, 5, 6]])\n",
    "b = np.array([[100, 200, 300], [400, 500, 600]])\n",
    "c = a+b\n",
    "print(c)\n"
   ]
  },
  {
   "cell_type": "markdown",
   "metadata": {},
   "source": [
    "Task2: Convert a 1-D array to a 3-D array."
   ]
  },
  {
   "cell_type": "code",
   "execution_count": null,
   "metadata": {},
   "outputs": [],
   "source": [
    "a = np.zeros((1,27),dtype=np.int8)\n",
    "print(a)\n",
    "b = a.reshape((3,3,3))\n",
    "print(b)"
   ]
  },
  {
   "cell_type": "markdown",
   "metadata": {},
   "source": [
    "Task3: Convert a binary numpy array (containing only 0s and 1s) to a boolean numpy array."
   ]
  },
  {
   "cell_type": "code",
   "execution_count": null,
   "metadata": {},
   "outputs": [],
   "source": [
    "a = np.array([1,0,1,0])\n",
    "a = a.astype(dtype = bool)\n",
    "print(a)"
   ]
  },
  {
   "cell_type": "markdown",
   "metadata": {},
   "source": [
    "Task4: Output a sequence of equally gapped 5 numbers in the range 0 to 100 (both inclusive)."
   ]
  },
  {
   "cell_type": "code",
   "execution_count": null,
   "metadata": {},
   "outputs": [],
   "source": [
    "x = np.linspace(0,100,5,dtype=np.int8)\n",
    "print(x)"
   ]
  },
  {
   "cell_type": "markdown",
   "metadata": {},
   "source": [
    "Task5: Output the array element indexes such that the array elements appear in the ascending order."
   ]
  },
  {
   "cell_type": "code",
   "execution_count": null,
   "metadata": {},
   "outputs": [],
   "source": [
    "x = np.array([0,1,4,3,2,5,6,7,8,9,10,11,12,13])\n",
    "print(np.argsort(x))"
   ]
  },
  {
   "cell_type": "markdown",
   "metadata": {},
   "source": [
    "Task6: Reverse a numpy array."
   ]
  },
  {
   "cell_type": "code",
   "execution_count": null,
   "metadata": {},
   "outputs": [],
   "source": [
    "x = np.linspace(0,100,19,dtype=np.int8)\n",
    "print(x)\n",
    "print(np.flip(x))"
   ]
  },
  {
   "cell_type": "markdown",
   "metadata": {},
   "source": [
    "Task7: How to swap two columns in a 2d numpy array?"
   ]
  },
  {
   "cell_type": "code",
   "execution_count": null,
   "metadata": {},
   "outputs": [],
   "source": [
    "a = np.array([[1,2,3],[4,5,6],[7,8,9]])\n",
    "a = a[: , [1,0,2]]\n",
    "print(a)"
   ]
  }
 ],
 "metadata": {
  "kernelspec": {
   "display_name": "Python 3.10.2 ('crypto': venv)",
   "language": "python",
   "name": "python3"
  },
  "language_info": {
   "codemirror_mode": {
    "name": "ipython",
    "version": 3
   },
   "file_extension": ".py",
   "mimetype": "text/x-python",
   "name": "python",
   "nbconvert_exporter": "python",
   "pygments_lexer": "ipython3",
   "version": "3.10.2"
  },
  "orig_nbformat": 4,
  "vscode": {
   "interpreter": {
    "hash": "d23e82d4a69a38d86e8f3a046047bcf19c4d50b4432c144275d370d779db8435"
   }
  }
 },
 "nbformat": 4,
 "nbformat_minor": 2
}
